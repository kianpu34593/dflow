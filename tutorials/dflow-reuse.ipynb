{
 "cells": [
  {
   "cell_type": "markdown",
   "metadata": {},
   "source": [
    "# Task\n",
    "We want to achieve the following workflow:\n",
    "\n",
    "1. do addition until reaching a certain value\n",
    "\n",
    "**Note:**\n",
    "\n",
    "Different from the previous `dflow-recurse.ipynb` example, this example shows how to reuse previous step. \n",
    "\n",
    "Hope you can understand the benefit of `Steps` recurse!\n",
    "\n",
    "**Why can we do this?**\n",
    "\n",
    "All the operated workflow are stored in the artifact repository, minio. Once you define a way to access them, you can find them in the minio to reuse it.\n",
    "\n",
    "However, if you delete the workflow manually, you cannot recover it."
   ]
  },
  {
   "cell_type": "code",
   "execution_count": 7,
   "metadata": {},
   "outputs": [],
   "source": [
    "from dflow import InputParameter, Inputs, Step, Steps, Workflow\n",
    "from dflow.python import OP, OPIO, OPIOSign, PythonOPTemplate"
   ]
  },
  {
   "cell_type": "markdown",
   "metadata": {},
   "source": [
    "This is essentially the same function as that in `dflow-recurse.ipynb`. It is only defined as `PythonOPTemplate` here."
   ]
  },
  {
   "cell_type": "code",
   "execution_count": 8,
   "metadata": {},
   "outputs": [],
   "source": [
    "class Plus1(OP):\n",
    "    def __init__(self):\n",
    "        pass\n",
    "\n",
    "    @classmethod\n",
    "    def get_input_sign(cls):\n",
    "        return OPIOSign({\n",
    "            'iter': int\n",
    "        })\n",
    "\n",
    "    @classmethod\n",
    "    def get_output_sign(cls):\n",
    "        return OPIOSign({\n",
    "            'iter': int\n",
    "        })\n",
    "\n",
    "    @OP.exec_sign_check\n",
    "    def execute(\n",
    "            self,\n",
    "            op_in: OPIO,\n",
    "    ) -> OPIO:\n",
    "        #we add this block to see effect of reuse\n",
    "        ###############################\n",
    "        import time \n",
    "        time.sleep(5) \n",
    "        ###############################\n",
    "        \n",
    "        return OPIO({\n",
    "            'iter': op_in['iter'] + 1\n",
    "        })"
   ]
  },
  {
   "cell_type": "markdown",
   "metadata": {},
   "source": [
    "Now, `Steps` is defined the same as `dflow-recurse.ipynb`."
   ]
  },
  {
   "cell_type": "code",
   "execution_count": 9,
   "metadata": {},
   "outputs": [],
   "source": [
    "steps = Steps(\n",
    "    name=\"iter\",\n",
    "    inputs=Inputs(\n",
    "        parameters={\"iter\": InputParameter(value=0), \"limit\": InputParameter(value=3)}\n",
    "    ),\n",
    ")"
   ]
  },
  {
   "cell_type": "markdown",
   "metadata": {},
   "source": [
    "This is the step we want to reuse. "
   ]
  },
  {
   "cell_type": "code",
   "execution_count": 10,
   "metadata": {},
   "outputs": [],
   "source": [
    "addition = Step(name=\"add\",\n",
    "                template=PythonOPTemplate(Plus1,\n",
    "                                        image=\"python:3.8\"),\n",
    "                parameters={\"iter\": steps.inputs.parameters[\"iter\"]},\n",
    "                key=\"iter-%s\" % steps.inputs.parameters[\"iter\"],\n",
    "                ) # a unique key"
   ]
  },
  {
   "cell_type": "markdown",
   "metadata": {},
   "source": [
    "**NOTE**:\n",
    "In order to reuse it, we need to define a unique key.  "
   ]
  },
  {
   "cell_type": "code",
   "execution_count": 11,
   "metadata": {},
   "outputs": [],
   "source": [
    "loop = Step(\n",
    "    name=\"loop\",\n",
    "    template=steps,\n",
    "    parameters={\"iter\": addition.outputs.parameters[\"iter\"]},\n",
    "    when=\"%s < %s\"\n",
    "    % (addition.outputs.parameters[\"iter\"], steps.inputs.parameters[\"limit\"]),\n",
    ")"
   ]
  },
  {
   "cell_type": "markdown",
   "metadata": {},
   "source": [
    "Now, we have all the steps setup. \n",
    "\n",
    "First, we will redo what we have done in `dflow-recurse.ipynb`. (`iter` starts from 0, `limit` sets to 3)\n",
    "\n",
    "Then, we will increase the `limit` to 6. But this time we want to reuse the steps from the first time.\n",
    "\n",
    "**BONUS**, we can modify the output of a step. So the thrid task we want to do is. We want to run the workflow from 0 (`iter`) to 6 (`limit`). But this time, we want to achieve it by modifying the output. "
   ]
  },
  {
   "cell_type": "markdown",
   "metadata": {},
   "source": [
    "## First, original recurse step"
   ]
  },
  {
   "cell_type": "code",
   "execution_count": 12,
   "metadata": {},
   "outputs": [
    {
     "name": "stdout",
     "output_type": "stream",
     "text": [
      "Workflow has been submitted (ID: recurse-kh7kz)\n"
     ]
    }
   ],
   "source": [
    "steps.add(addition)\n",
    "steps.add(loop)\n",
    "\n",
    "wf = Workflow(\"recurse\", steps=steps)\n",
    "wf.submit();"
   ]
  },
  {
   "cell_type": "markdown",
   "metadata": {},
   "source": [
    "## Then, reuse the workflow"
   ]
  },
  {
   "cell_type": "code",
   "execution_count": 13,
   "metadata": {},
   "outputs": [],
   "source": [
    "step0=wf.query_step(key='iter-0')[0]\n",
    "step1=wf.query_step(key='iter-1')[0]\n",
    "step2=wf.query_step(key='iter-2')[0]"
   ]
  },
  {
   "cell_type": "markdown",
   "metadata": {},
   "source": [
    "Now change the value in the steps and rerun it. To not make confusion, we just copy the above code to the cell below. "
   ]
  },
  {
   "cell_type": "code",
   "execution_count": 14,
   "metadata": {},
   "outputs": [],
   "source": [
    "steps = Steps(\n",
    "    name=\"iter\",\n",
    "    inputs=Inputs(\n",
    "        parameters={\"iter\": InputParameter(value=0), \"limit\": InputParameter(value=6)}\n",
    "    ),\n",
    ")\n",
    "addition = Step(name=\"add\",\n",
    "                template=PythonOPTemplate(Plus1,\n",
    "                                        image=\"python:3.8\"),\n",
    "                parameters={\"iter\": steps.inputs.parameters[\"iter\"]},\n",
    "                key=\"iter-%s\" % steps.inputs.parameters[\"iter\"]) # do not modify the key!!!!\n",
    "loop = Step(\n",
    "    name=\"loop\",\n",
    "    template=steps,\n",
    "    parameters={\"iter\": addition.outputs.parameters[\"iter\"]},\n",
    "    when=\"%s < %s\"\n",
    "    % (addition.outputs.parameters[\"iter\"], steps.inputs.parameters[\"limit\"]),\n",
    ")"
   ]
  },
  {
   "cell_type": "code",
   "execution_count": 15,
   "metadata": {},
   "outputs": [
    {
     "name": "stdout",
     "output_type": "stream",
     "text": [
      "Workflow has been submitted (ID: recurse-resubmit-wfjnq)\n"
     ]
    }
   ],
   "source": [
    "steps.add(addition)\n",
    "steps.add(loop)\n",
    "\n",
    "wf = Workflow(\"recurse-resubmit\", steps=steps)\n",
    "wf.submit(reuse_step=[step0, step1, step2]);"
   ]
  },
  {
   "cell_type": "markdown",
   "metadata": {},
   "source": [
    "## Bonus, we can modify the output of a step."
   ]
  },
  {
   "cell_type": "code",
   "execution_count": 16,
   "metadata": {},
   "outputs": [],
   "source": [
    "steps = Steps(\n",
    "    name=\"iter\",\n",
    "    inputs=Inputs(\n",
    "        parameters={\"iter\": InputParameter(value=0), \"limit\": InputParameter(value=6)}\n",
    "    ),\n",
    ")\n",
    "addition = Step(name=\"add\",\n",
    "                template=PythonOPTemplate(Plus1,\n",
    "                                        image=\"python:3.8\"),\n",
    "                parameters={\"iter\": steps.inputs.parameters[\"iter\"]},\n",
    "                key=\"iter-%s\" % steps.inputs.parameters[\"iter\"]) # do not modify the key!!!!\n",
    "loop = Step(\n",
    "    name=\"loop\",\n",
    "    template=steps,\n",
    "    parameters={\"iter\": addition.outputs.parameters[\"iter\"]},\n",
    "    when=\"%s < %s\"\n",
    "    % (addition.outputs.parameters[\"iter\"], steps.inputs.parameters[\"limit\"]),\n",
    ")"
   ]
  },
  {
   "cell_type": "code",
   "execution_count": 17,
   "metadata": {},
   "outputs": [],
   "source": [
    "step2.modify_output_parameter(\"iter\", 5)"
   ]
  },
  {
   "cell_type": "code",
   "execution_count": 18,
   "metadata": {},
   "outputs": [
    {
     "name": "stdout",
     "output_type": "stream",
     "text": [
      "Workflow has been submitted (ID: recurse-resubmit-4tclp)\n"
     ]
    }
   ],
   "source": [
    "steps.add(addition)\n",
    "steps.add(loop)\n",
    "\n",
    "wf = Workflow(\"recurse-resubmit\", steps=steps)\n",
    "wf.submit(reuse_step=[step0, step1, step2]);"
   ]
  }
 ],
 "metadata": {
  "kernelspec": {
   "display_name": "Python 3.8.13 ('dflow')",
   "language": "python",
   "name": "python3"
  },
  "language_info": {
   "codemirror_mode": {
    "name": "ipython",
    "version": 3
   },
   "file_extension": ".py",
   "mimetype": "text/x-python",
   "name": "python",
   "nbconvert_exporter": "python",
   "pygments_lexer": "ipython3",
   "version": "3.8.13"
  },
  "orig_nbformat": 4,
  "vscode": {
   "interpreter": {
    "hash": "6b9551e59394a2991b809952bb73195262197907daf1011efb2c98895a84e3cb"
   }
  }
 },
 "nbformat": 4,
 "nbformat_minor": 2
}
